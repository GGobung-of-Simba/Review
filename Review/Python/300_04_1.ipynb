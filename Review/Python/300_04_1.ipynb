{
 "cells": [
  {
   "cell_type": "code",
   "execution_count": null,
   "metadata": {},
   "outputs": [
    {
     "data": {
      "text/plain": [
       "['닥터스트레인지', '슈퍼맨', '럭키']"
      ]
     },
     "execution_count": 7,
     "metadata": {},
     "output_type": "execute_result"
    }
   ],
   "source": [
    "movie_rank = ['닥터스트레인지', '스플릿', '럭키']\n",
    "\n",
    "movie_rank.append(\"배트맨\")\n",
    "\n",
    "movie_rank.insert(1,\"슈퍼맨\")\n",
    "\n",
    "movie_rank.remove(\"스플릿\")\n",
    "movie_rank.remove(\"배트맨\")\n",
    "\n",
    "movie_rank"
   ]
  },
  {
   "cell_type": "code",
   "execution_count": 9,
   "metadata": {},
   "outputs": [
    {
     "data": {
      "text/plain": [
       "['C', 'C++', 'JAVA', 'Python', 'Go', 'C#']"
      ]
     },
     "execution_count": 9,
     "metadata": {},
     "output_type": "execute_result"
    }
   ],
   "source": [
    "lang1 = [\"C\", \"C++\", \"JAVA\"]\n",
    "lang2 = [\"Python\", \"Go\", \"C#\"]\n",
    "langs = lang1 + lang2\n",
    "langs"
   ]
  },
  {
   "cell_type": "code",
   "execution_count": 17,
   "metadata": {},
   "outputs": [
    {
     "name": "stdout",
     "output_type": "stream",
     "text": [
      "1 7\n",
      "1\n",
      "7\n"
     ]
    }
   ],
   "source": [
    "nums = [1, 2, 3, 4, 5, 6, 7]\n",
    "nums.sort()\n",
    "\n",
    "print(nums[0], nums[len(nums)-1])\n",
    "print(min(nums))\n",
    "print(max(nums))"
   ]
  },
  {
   "cell_type": "code",
   "execution_count": 24,
   "metadata": {},
   "outputs": [
    {
     "name": "stdout",
     "output_type": "stream",
     "text": [
      "15\n",
      "15\n"
     ]
    }
   ],
   "source": [
    "nums = [1,2,3,4,5]\n",
    "print(sum(nums))\n",
    "total = 0\n",
    "for i in nums:\n",
    "    total += i\n",
    "    #print(total)\n",
    "    #print (i)\n",
    "print(total)   "
   ]
  }
 ],
 "metadata": {
  "kernelspec": {
   "display_name": "Python 3",
   "language": "python",
   "name": "python3"
  },
  "language_info": {
   "codemirror_mode": {
    "name": "ipython",
    "version": 3
   },
   "file_extension": ".py",
   "mimetype": "text/x-python",
   "name": "python",
   "nbconvert_exporter": "python",
   "pygments_lexer": "ipython3",
   "version": "3.11.9"
  }
 },
 "nbformat": 4,
 "nbformat_minor": 2
}
