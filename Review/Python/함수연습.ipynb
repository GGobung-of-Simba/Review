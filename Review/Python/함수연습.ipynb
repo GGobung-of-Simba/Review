{
 "cells": [
  {
   "cell_type": "code",
   "execution_count": 5,
   "metadata": {},
   "outputs": [
    {
     "name": "stdout",
     "output_type": "stream",
     "text": [
      "[2, 4, 6, 8, 10, 546, 46]\n"
     ]
    }
   ],
   "source": [
    "b = [1,2,3,4,5,6,7,8,9,10,546,21,3,5,46]\n",
    "a=[]\n",
    "def 반복(list, 동작):\n",
    "    for i in list:\n",
    "        if 동작(i):\n",
    "            a.append(i)\n",
    "    return a\n",
    "\n",
    "# 짝수만 필터링하는 콜백\n",
    "def 짝수(i):\n",
    "    return i % 2 == 0\n",
    "\n",
    "# 실행\n",
    "print(반복(b, 짝수))  # [2, 4]    "
   ]
  },
  {
   "cell_type": "code",
   "execution_count": 16,
   "metadata": {},
   "outputs": [
    {
     "name": "stdout",
     "output_type": "stream",
     "text": [
      "['ABC', 'APPLE', 'BANANA', 'CANADA', 'DRAMA']\n"
     ]
    }
   ],
   "source": [
    "# 리스트의 문자열을 대문자로 바꿔보자\n",
    "a = ['abc','apple','banana','canada','drama']\n",
    "\n",
    "def 반복(list,동작):\n",
    "    result = []\n",
    "    for i in list:\n",
    "        result.append(동작(i))\n",
    "    return result\n",
    "        \n",
    "def 대문자(i):\n",
    "    return i.upper()        \n",
    "\n",
    "print(반복(a, 대문자))"
   ]
  },
  {
   "cell_type": "code",
   "execution_count": 28,
   "metadata": {},
   "outputs": [
    {
     "name": "stdout",
     "output_type": "stream",
     "text": [
      "676\n"
     ]
    }
   ],
   "source": [
    "# 리스트의 수를 모두 더하세용\n",
    "b = [1,2,3,4,5,6,7,8,9,10,546,21,3,5,46]\n",
    "\n",
    "def 반복(list, 동작):\n",
    "    a=0\n",
    "    for i in list:      \n",
    "        a+=i\n",
    "    return a\n",
    "\n",
    "def 더하기(a,i):\n",
    "    return a+i\n",
    "\n",
    "print(반복(b,더하기))"
   ]
  },
  {
   "cell_type": "code",
   "execution_count": null,
   "metadata": {},
   "outputs": [
    {
     "ename": "SyntaxError",
     "evalue": "invalid syntax (2836929432.py, line 4)",
     "output_type": "error",
     "traceback": [
      "\u001b[1;36m  Cell \u001b[1;32mIn[33], line 4\u001b[1;36m\u001b[0m\n\u001b[1;33m    list =\u001b[0m\n\u001b[1;37m           ^\u001b[0m\n\u001b[1;31mSyntaxError\u001b[0m\u001b[1;31m:\u001b[0m invalid syntax\n"
     ]
    }
   ],
   "source": [
    "#2씩 더하고 3으로 나눈 나머지 리스트를 구하는 콜백 함수\n",
    "numbers = []\n",
    "def 일(list,동작1,동작2):\n",
    "    list = \n",
    "\n",
    "def 더하기(a):\n",
    "    a = 0\n",
    "    for a in range(10):\n",
    "    return numbers.append(a)\n",
    "\n",
    "def 나머지():\n",
    "    return a%3\n",
    "\n",
    "print(일(numbers, 더하기, 나머지))"
   ]
  },
  {
   "cell_type": "code",
   "execution_count": 45,
   "metadata": {},
   "outputs": [
    {
     "name": "stdout",
     "output_type": "stream",
     "text": [
      "[2, 4, 6, 8, 10, 12, 14, 16, 18, 20]\n"
     ]
    }
   ],
   "source": [
    "# 비어있는 리스트에 2씩 더한 수를 10번 추가하는 콜백 함수를 만들어라\n",
    "etof = []\n",
    "a=0\n",
    "def 반복(list,동작):\n",
    "    for i in range(10):\n",
    "        list.append(동작())\n",
    "    return list\n",
    "\n",
    "def 더하기():\n",
    "    global a\n",
    "    a+=2\n",
    "    return a\n",
    "\n",
    "print(반복(etof,더하기))\n",
    "    \n"
   ]
  },
  {
   "cell_type": "code",
   "execution_count": 46,
   "metadata": {},
   "outputs": [
    {
     "name": "stdout",
     "output_type": "stream",
     "text": [
      "[2, 1, 0, 2, 1, 0, 2, 1, 0, 2]\n"
     ]
    }
   ],
   "source": [
    "# 비어있는 리스트에 2씩 더한 수를 10번 추가하는 콜백 함수를 만들고 \n",
    "# 그 수를 3으로 나눈 나머지 값을 출력해라\n",
    "etof = []\n",
    "a=0\n",
    "def 반복(list,동작1):\n",
    "    for i in range(10):\n",
    "        list.append(동작1())\n",
    "    return list\n",
    "\n",
    "def 더하기():\n",
    "    global a\n",
    "    a+=2\n",
    "    return a\n",
    "\n",
    "def 나머지():\n",
    "    return 더하기()%3\n",
    "\n",
    "print(반복(etof,나머지))"
   ]
  },
  {
   "cell_type": "code",
   "execution_count": 53,
   "metadata": {},
   "outputs": [
    {
     "name": "stdout",
     "output_type": "stream",
     "text": [
      "[2, 1, 0, 2, 1, 0, 2, 1, 0, 2]\n"
     ]
    }
   ],
   "source": [
    "# 비어있는 리스트에 2씩 더한 수를 10번 추가하는 콜백 함수를 만들고 \n",
    "# 그 수를 3으로 나눈 나머지 값을 출력해라\n",
    "etof = []\n",
    "a=0\n",
    "def 반복(list,동작1,동작2):\n",
    "    for i in range(10):\n",
    "        동작1값 = 동작1()\n",
    "        list.append(동작2(동작1값))\n",
    "    return list\n",
    "\n",
    "def 더하기():\n",
    "    global a\n",
    "    a+=2\n",
    "    return a\n",
    "\n",
    "def 나머지(동작1값):\n",
    "    return 동작1값%3\n",
    "\n",
    "print(반복(etof,더하기,나머지))"
   ]
  },
  {
   "cell_type": "code",
   "execution_count": 54,
   "metadata": {},
   "outputs": [
    {
     "name": "stdout",
     "output_type": "stream",
     "text": [
      "[3, 6, 9, 12, 15, 18, 21, 24, 27, 30, 33, 36, 39, 42, 45, 96, 102, 108, 114, 120]\n"
     ]
    }
   ],
   "source": [
    "# 비어있는 리스트에 3씩 증가하는 값을 20번 추가하는 콜백 함수를 만드세요\n",
    "# 리스트의 마지막 5개의 값을 2배로 바꾸는 콜백 함수도 만들어 보세요\n",
    "etf = []\n",
    "a=0\n",
    "def 반복(list, 동작1, 동작2):\n",
    "    for i in range(20):\n",
    "        a값 = 동작1()\n",
    "        list.append(a값)\n",
    "    for j in range(len(list)-5,len(list)):\n",
    "        list[j]=동작2(list[j])\n",
    "    return list\n",
    "\n",
    "\n",
    "def 더하기():\n",
    "    global a\n",
    "    a+=3\n",
    "    return a\n",
    "\n",
    "def 두배(a값):\n",
    "    return a값*2\n",
    "\n",
    "print(반복(etf,더하기,두배))\n",
    "\n",
    "\n",
    "\n",
    "\n"
   ]
  }
 ],
 "metadata": {
  "kernelspec": {
   "display_name": "Python 3",
   "language": "python",
   "name": "python3"
  },
  "language_info": {
   "codemirror_mode": {
    "name": "ipython",
    "version": 3
   },
   "file_extension": ".py",
   "mimetype": "text/x-python",
   "name": "python",
   "nbconvert_exporter": "python",
   "pygments_lexer": "ipython3",
   "version": "3.11.9"
  }
 },
 "nbformat": 4,
 "nbformat_minor": 2
}
